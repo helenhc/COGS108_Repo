{
 "cells": [
  {
   "cell_type": "markdown",
   "metadata": {},
   "source": [
    "# COGS 108 Final Project Check-In"
   ]
  },
  {
   "cell_type": "markdown",
   "metadata": {},
   "source": [
    "# Names\n",
    "\n",
    "- Jessica Nguyen\n",
    "- Bijou De Jong\n",
    "- Helen Chung\n",
    "- Cindy Huynh"
   ]
  },
  {
   "cell_type": "markdown",
   "metadata": {},
   "source": [
    "# Group Members IDs\n",
    "\n",
    "- A14849806\n",
    "- A13890147\n",
    "- A14480171\n",
    "- A15284256\n"
   ]
  },
  {
   "cell_type": "markdown",
   "metadata": {},
   "source": [
    "# Accomplishments"
   ]
  },
  {
   "cell_type": "markdown",
   "metadata": {},
   "source": [
    "* Formed a new question and topic \n",
    "* Found a dataset to work with on Kaggle\n",
    "* Did some initial data cleaning\n",
    "* Made specific times to meet on a weekly basis to work together \n"
   ]
  },
  {
   "cell_type": "markdown",
   "metadata": {},
   "source": [
    "# Going Well"
   ]
  },
  {
   "cell_type": "markdown",
   "metadata": {},
   "source": [
    "* Motivating each other to work individually and as a team\n",
    "* Communication with each other \n",
    "* Adhering to the schedule that was initially planned \n"
   ]
  },
  {
   "cell_type": "markdown",
   "metadata": {},
   "source": [
    "# Struggles"
   ]
  },
  {
   "cell_type": "markdown",
   "metadata": {},
   "source": [
    "* Choosing a new topic that everyone could agree on\n",
    "* Finding times in our schedules where everyone could meet up\n",
    "* Understanding the basics of how to build a recommender system\n"
   ]
  },
  {
   "cell_type": "markdown",
   "metadata": {},
   "source": [
    "# Plan Forward"
   ]
  },
  {
   "cell_type": "markdown",
   "metadata": {},
   "source": [
    "* Designate weekly times to meet up and work on the project\n",
    "* Assign work to each member individually to finish before meeting time\n",
    "* Keep adhering to the schedule that was initially planned \n"
   ]
  }
 ],
 "metadata": {
  "kernelspec": {
   "display_name": "Python 3",
   "language": "python",
   "name": "python3"
  },
  "language_info": {
   "codemirror_mode": {
    "name": "ipython",
    "version": 3
   },
   "file_extension": ".py",
   "mimetype": "text/x-python",
   "name": "python",
   "nbconvert_exporter": "python",
   "pygments_lexer": "ipython3",
   "version": "3.6.7"
  }
 },
 "nbformat": 4,
 "nbformat_minor": 2
}
