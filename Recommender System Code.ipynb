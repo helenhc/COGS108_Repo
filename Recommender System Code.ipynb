{
 "cells": [
  {
   "cell_type": "code",
   "execution_count": 1,
   "metadata": {},
   "outputs": [],
   "source": [
    "import pandas as pd\n",
    "import numpy as np\n",
    "import matplotlib.pyplot as plt\n",
    "from sklearn.ensemble import ExtraTreesClassifier\n",
    "from sklearn.model_selection import train_test_split\n",
    "from sklearn.feature_extraction.text import CountVectorizer\n",
    "from sklearn.metrics.pairwise import cosine_similarity"
   ]
  },
  {
   "cell_type": "markdown",
   "metadata": {},
   "source": [
    "## Data Cleaning"
   ]
  },
  {
   "cell_type": "code",
   "execution_count": 2,
   "metadata": {},
   "outputs": [],
   "source": [
    "#loading the dataset as df \n",
    "df = pd.read_csv('spotify.csv')"
   ]
  },
  {
   "cell_type": "code",
   "execution_count": 3,
   "metadata": {},
   "outputs": [],
   "source": [
    "#dropping an unnecessary index column\n",
    "df = df.drop(['Unnamed: 0'], axis = 1)"
   ]
  },
  {
   "cell_type": "code",
   "execution_count": 4,
   "metadata": {},
   "outputs": [],
   "source": [
    "#setting the artist column to be the first column after the index\n",
    "cols = df.columns.tolist()\n",
    "cols = cols[-1:] + cols[:-1]\n",
    "df = df[cols]"
   ]
  },
  {
   "cell_type": "code",
   "execution_count": 5,
   "metadata": {},
   "outputs": [
    {
     "data": {
      "text/plain": [
       "(8, 14)"
      ]
     },
     "execution_count": 5,
     "metadata": {},
     "output_type": "execute_result"
    }
   ],
   "source": [
    "df.describe().shape"
   ]
  },
  {
   "cell_type": "code",
   "execution_count": 6,
   "metadata": {},
   "outputs": [],
   "source": [
    "#combining the Artist and Song column together to produce our outcome variable\n",
    "df['song and artist'] = df['song_title'] + ' by ' + df['artist']"
   ]
  },
  {
   "cell_type": "code",
   "execution_count": 7,
   "metadata": {},
   "outputs": [],
   "source": [
    "df = df.drop(['song_title', 'artist'], axis = 1)\n",
    "df = df[['song and artist', 'acousticness', 'danceability', 'duration_ms', 'energy',\n",
    "       'instrumentalness', 'key', 'liveness', 'loudness', 'mode',\n",
    "       'speechiness', 'tempo', 'time_signature', 'valence', 'target',]]"
   ]
  },
  {
   "cell_type": "markdown",
   "metadata": {},
   "source": [
    "## Making the Recommender System"
   ]
  },
  {
   "cell_type": "code",
   "execution_count": 8,
   "metadata": {},
   "outputs": [],
   "source": [
    "x = df.astype(str)"
   ]
  },
  {
   "cell_type": "code",
   "execution_count": 9,
   "metadata": {},
   "outputs": [],
   "source": [
    "features = ['tempo', 'acousticness','energy', 'valence', 'danceability']"
   ]
  },
  {
   "cell_type": "code",
   "execution_count": 10,
   "metadata": {},
   "outputs": [],
   "source": [
    "def combine_features(row):\n",
    "    return row['tempo'] +' '+ row[\"acousticness\"] + ' '+ row[\"energy\"] + ' '+ row[\"valence\"]+ ' '+ row[\"danceability\"]"
   ]
  },
  {
   "cell_type": "code",
   "execution_count": 11,
   "metadata": {},
   "outputs": [],
   "source": [
    "for feature in features:\n",
    "    x[feature] = x[feature].fillna('') #filling all NaNs with blank string\n",
    "x[\"combined_features\"] = x.apply(combine_features,axis=1) #applying combined_features() method over each rows of dataframe and storing the combined string in “combined_features” column"
   ]
  },
  {
   "cell_type": "code",
   "execution_count": 12,
   "metadata": {},
   "outputs": [],
   "source": [
    "cv = CountVectorizer() #creating new CountVectorizer() object\n",
    "count_matrix = cv.fit_transform(x[\"combined_features\"]) #feeding combined strings(movie contents) to CountVectorizer() object\n"
   ]
  },
  {
   "cell_type": "code",
   "execution_count": 13,
   "metadata": {},
   "outputs": [],
   "source": [
    "cosine_sim = cosine_similarity(count_matrix)"
   ]
  },
  {
   "cell_type": "code",
   "execution_count": 14,
   "metadata": {},
   "outputs": [],
   "source": [
    "def get_title_from_index(index):\n",
    "    return x[x.index == index][\"song and artist\"].values[0]\n",
    "def get_index_from_title(title):\n",
    "    return x[x['song and artist'] == title].index.values[0]"
   ]
  },
  {
   "cell_type": "code",
   "execution_count": 25,
   "metadata": {},
   "outputs": [],
   "source": [
    "song_user_likes = \"Trap Queen by Fetty Wap\"\n",
    "song_index = get_index_from_title(song_user_likes)\n",
    "similar_movies = list(enumerate(cosine_sim[song_index])) #accessing the row corresponding to given movie to find all the similarity scores for that movie and then enumerating over it\n"
   ]
  },
  {
   "cell_type": "code",
   "execution_count": 26,
   "metadata": {},
   "outputs": [],
   "source": [
    "sorted_similar_movies = sorted(similar_movies,key=lambda x:x[1],reverse=True)[1:]"
   ]
  },
  {
   "cell_type": "markdown",
   "metadata": {},
   "source": [
    "## Final Recommender System"
   ]
  },
  {
   "cell_type": "code",
   "execution_count": 34,
   "metadata": {},
   "outputs": [
    {
     "name": "stdout",
     "output_type": "stream",
     "text": [
      "Top 5 similar songs to Trap Queen by Fetty Wap are:\n",
      "\n",
      "Need You Now by Cut Copy\n",
      "Poppin' My Collar by Three 6 Mafia\n",
      "Dopeman by Vince Staples\n",
      "Let It Happen by Tame Impala\n",
      "Rewind by Kelela\n"
     ]
    }
   ],
   "source": [
    "song_list = []\n",
    "song_list.append(song_user_likes)\n",
    "i=1\n",
    "print(\"Top 5 similar songs to \" + song_user_likes + \" are:\\n\")\n",
    "for element in sorted_similar_movies:\n",
    "    print(get_title_from_index(element[0]))\n",
    "    song_list.append(get_title_from_index(element[0]))\n",
    "    i=i+1\n",
    "    if i>5:\n",
    "        break"
   ]
  },
  {
   "cell_type": "markdown",
   "metadata": {},
   "source": [
    "## Testing if relevant features in recommended songs are ones found in the whole dataset"
   ]
  },
  {
   "cell_type": "code",
   "execution_count": 42,
   "metadata": {},
   "outputs": [],
   "source": [
    "temp_df = df[df['song and artist'].isin(song_list)]\n",
    "X = temp_df.iloc[:,1:]  #independent columns\n",
    "y = temp_df.iloc[:,0]"
   ]
  },
  {
   "cell_type": "code",
   "execution_count": 48,
   "metadata": {},
   "outputs": [
    {
     "name": "stderr",
     "output_type": "stream",
     "text": [
      "/Users/hyewonchung/opt/anaconda3/lib/python3.7/site-packages/sklearn/ensemble/forest.py:245: FutureWarning: The default value of n_estimators will change from 10 in version 0.20 to 100 in 0.22.\n",
      "  \"10 in version 0.20 to 100 in 0.22.\", FutureWarning)\n"
     ]
    },
    {
     "data": {
      "image/png": "[encoded data removed]",
      "text/plain": [
       "<Figure size 432x288 with 1 Axes>"
      ]
     },
     "metadata": {
      "needs_background": "light"
     },
     "output_type": "display_data"
    }
   ],
   "source": [
    "model = ExtraTreesClassifier()\n",
    "model.fit(X,y)\n",
    "features = pd.concat([pd.Series(temp_df.columns[1:]), pd.Series(model.feature_importances_)], axis=1)\n",
    "features.columns = ['Features', 'Importance']\n",
    "features = features.sort_values(by = 'Importance', ascending = False).reset_index().drop(['index'], axis = 1)\n",
    "features\n",
    "feat_importances = pd.Series(model.feature_importances_, index=X.columns)\n",
    "feat_importances.nlargest(10).plot(kind='barh')\n",
    "plt.show()"
   ]
  },
  {
   "cell_type": "code",
   "execution_count": 49,
   "metadata": {},
   "outputs": [
    {
     "data": {
      "text/html": [
       "<div>\n",
       "<style scoped>\n",
       "    .dataframe tbody tr th:only-of-type {\n",
       "        vertical-align: middle;\n",
       "    }\n",
       "\n",
       "    .dataframe tbody tr th {\n",
       "        vertical-align: top;\n",
       "    }\n",
       "\n",
       "    .dataframe thead th {\n",
       "        text-align: right;\n",
       "    }\n",
       "</style>\n",
       "<table border=\"1\" class=\"dataframe\">\n",
       "  <thead>\n",
       "    <tr style=\"text-align: right;\">\n",
       "      <th></th>\n",
       "      <th>Features</th>\n",
       "      <th>Importance</th>\n",
       "    </tr>\n",
       "  </thead>\n",
       "  <tbody>\n",
       "    <tr>\n",
       "      <td>0</td>\n",
       "      <td>tempo</td>\n",
       "      <td>0.12</td>\n",
       "    </tr>\n",
       "    <tr>\n",
       "      <td>1</td>\n",
       "      <td>acousticness</td>\n",
       "      <td>0.10</td>\n",
       "    </tr>\n",
       "    <tr>\n",
       "      <td>2</td>\n",
       "      <td>duration_ms</td>\n",
       "      <td>0.10</td>\n",
       "    </tr>\n",
       "    <tr>\n",
       "      <td>3</td>\n",
       "      <td>liveness</td>\n",
       "      <td>0.10</td>\n",
       "    </tr>\n",
       "    <tr>\n",
       "      <td>4</td>\n",
       "      <td>valence</td>\n",
       "      <td>0.10</td>\n",
       "    </tr>\n",
       "    <tr>\n",
       "      <td>5</td>\n",
       "      <td>energy</td>\n",
       "      <td>0.08</td>\n",
       "    </tr>\n",
       "    <tr>\n",
       "      <td>6</td>\n",
       "      <td>key</td>\n",
       "      <td>0.08</td>\n",
       "    </tr>\n",
       "    <tr>\n",
       "      <td>7</td>\n",
       "      <td>loudness</td>\n",
       "      <td>0.08</td>\n",
       "    </tr>\n",
       "    <tr>\n",
       "      <td>8</td>\n",
       "      <td>mode</td>\n",
       "      <td>0.08</td>\n",
       "    </tr>\n",
       "    <tr>\n",
       "      <td>9</td>\n",
       "      <td>speechiness</td>\n",
       "      <td>0.08</td>\n",
       "    </tr>\n",
       "    <tr>\n",
       "      <td>10</td>\n",
       "      <td>danceability</td>\n",
       "      <td>0.04</td>\n",
       "    </tr>\n",
       "    <tr>\n",
       "      <td>11</td>\n",
       "      <td>instrumentalness</td>\n",
       "      <td>0.04</td>\n",
       "    </tr>\n",
       "    <tr>\n",
       "      <td>12</td>\n",
       "      <td>time_signature</td>\n",
       "      <td>0.00</td>\n",
       "    </tr>\n",
       "    <tr>\n",
       "      <td>13</td>\n",
       "      <td>target</td>\n",
       "      <td>0.00</td>\n",
       "    </tr>\n",
       "  </tbody>\n",
       "</table>\n",
       "</div>"
      ],
      "text/plain": [
       "            Features  Importance\n",
       "0              tempo        0.12\n",
       "1       acousticness        0.10\n",
       "2        duration_ms        0.10\n",
       "3           liveness        0.10\n",
       "4            valence        0.10\n",
       "5             energy        0.08\n",
       "6                key        0.08\n",
       "7           loudness        0.08\n",
       "8               mode        0.08\n",
       "9        speechiness        0.08\n",
       "10      danceability        0.04\n",
       "11  instrumentalness        0.04\n",
       "12    time_signature        0.00\n",
       "13            target        0.00"
      ]
     },
     "execution_count": 49,
     "metadata": {},
     "output_type": "execute_result"
    }
   ],
   "source": [
    "features"
   ]
  },
  {
   "cell_type": "markdown",
   "metadata": {},
   "source": [
    "## Feature Selection"
   ]
  },
  {
   "cell_type": "code",
   "execution_count": 18,
   "metadata": {},
   "outputs": [],
   "source": [
    "X = df.iloc[:,1:]  #independent columns\n",
    "y = df.iloc[:,0]"
   ]
  },
  {
   "cell_type": "code",
   "execution_count": 19,
   "metadata": {},
   "outputs": [
    {
     "name": "stderr",
     "output_type": "stream",
     "text": [
      "/Users/hyewonchung/opt/anaconda3/lib/python3.7/site-packages/sklearn/ensemble/forest.py:245: FutureWarning: The default value of n_estimators will change from 10 in version 0.20 to 100 in 0.22.\n",
      "  \"10 in version 0.20 to 100 in 0.22.\", FutureWarning)\n",
      "/Users/hyewonchung/opt/anaconda3/lib/python3.7/site-packages/sklearn/ensemble/forest.py:245: FutureWarning: The default value of n_estimators will change from 10 in version 0.20 to 100 in 0.22.\n",
      "  \"10 in version 0.20 to 100 in 0.22.\", FutureWarning)\n",
      "/Users/hyewonchung/opt/anaconda3/lib/python3.7/site-packages/sklearn/ensemble/forest.py:245: FutureWarning: The default value of n_estimators will change from 10 in version 0.20 to 100 in 0.22.\n",
      "  \"10 in version 0.20 to 100 in 0.22.\", FutureWarning)\n",
      "/Users/hyewonchung/opt/anaconda3/lib/python3.7/site-packages/sklearn/ensemble/forest.py:245: FutureWarning: The default value of n_estimators will change from 10 in version 0.20 to 100 in 0.22.\n",
      "  \"10 in version 0.20 to 100 in 0.22.\", FutureWarning)\n",
      "/Users/hyewonchung/opt/anaconda3/lib/python3.7/site-packages/sklearn/ensemble/forest.py:245: FutureWarning: The default value of n_estimators will change from 10 in version 0.20 to 100 in 0.22.\n",
      "  \"10 in version 0.20 to 100 in 0.22.\", FutureWarning)\n",
      "/Users/hyewonchung/opt/anaconda3/lib/python3.7/site-packages/sklearn/ensemble/forest.py:245: FutureWarning: The default value of n_estimators will change from 10 in version 0.20 to 100 in 0.22.\n",
      "  \"10 in version 0.20 to 100 in 0.22.\", FutureWarning)\n",
      "/Users/hyewonchung/opt/anaconda3/lib/python3.7/site-packages/sklearn/ensemble/forest.py:245: FutureWarning: The default value of n_estimators will change from 10 in version 0.20 to 100 in 0.22.\n",
      "  \"10 in version 0.20 to 100 in 0.22.\", FutureWarning)\n",
      "/Users/hyewonchung/opt/anaconda3/lib/python3.7/site-packages/sklearn/ensemble/forest.py:245: FutureWarning: The default value of n_estimators will change from 10 in version 0.20 to 100 in 0.22.\n",
      "  \"10 in version 0.20 to 100 in 0.22.\", FutureWarning)\n",
      "/Users/hyewonchung/opt/anaconda3/lib/python3.7/site-packages/sklearn/ensemble/forest.py:245: FutureWarning: The default value of n_estimators will change from 10 in version 0.20 to 100 in 0.22.\n",
      "  \"10 in version 0.20 to 100 in 0.22.\", FutureWarning)\n",
      "/Users/hyewonchung/opt/anaconda3/lib/python3.7/site-packages/sklearn/ensemble/forest.py:245: FutureWarning: The default value of n_estimators will change from 10 in version 0.20 to 100 in 0.22.\n",
      "  \"10 in version 0.20 to 100 in 0.22.\", FutureWarning)\n"
     ]
    }
   ],
   "source": [
    "features_list = []\n",
    "for i in range(10): \n",
    "    model = ExtraTreesClassifier()\n",
    "    model.fit(X,y)\n",
    "    features = model.feature_importances_ #use inbuilt class feature_importances of tree based classifiers\n",
    "    features_list.append(features)\n"
   ]
  },
  {
   "cell_type": "code",
   "execution_count": 20,
   "metadata": {},
   "outputs": [
    {
     "data": {
      "text/html": [
       "<div>\n",
       "<style scoped>\n",
       "    .dataframe tbody tr th:only-of-type {\n",
       "        vertical-align: middle;\n",
       "    }\n",
       "\n",
       "    .dataframe tbody tr th {\n",
       "        vertical-align: top;\n",
       "    }\n",
       "\n",
       "    .dataframe thead th {\n",
       "        text-align: right;\n",
       "    }\n",
       "</style>\n",
       "<table border=\"1\" class=\"dataframe\">\n",
       "  <thead>\n",
       "    <tr style=\"text-align: right;\">\n",
       "      <th></th>\n",
       "      <th>1</th>\n",
       "      <th>2</th>\n",
       "      <th>3</th>\n",
       "      <th>4</th>\n",
       "      <th>5</th>\n",
       "      <th>6</th>\n",
       "      <th>7</th>\n",
       "      <th>8</th>\n",
       "      <th>9</th>\n",
       "      <th>10</th>\n",
       "      <th>mean</th>\n",
       "    </tr>\n",
       "  </thead>\n",
       "  <tbody>\n",
       "    <tr>\n",
       "      <td>0</td>\n",
       "      <td>0.089016</td>\n",
       "      <td>0.092238</td>\n",
       "      <td>0.091946</td>\n",
       "      <td>0.090694</td>\n",
       "      <td>0.086050</td>\n",
       "      <td>0.091490</td>\n",
       "      <td>0.088866</td>\n",
       "      <td>0.085146</td>\n",
       "      <td>0.089448</td>\n",
       "      <td>0.088818</td>\n",
       "      <td>0.089371</td>\n",
       "    </tr>\n",
       "    <tr>\n",
       "      <td>1</td>\n",
       "      <td>0.090005</td>\n",
       "      <td>0.087249</td>\n",
       "      <td>0.087405</td>\n",
       "      <td>0.088864</td>\n",
       "      <td>0.090552</td>\n",
       "      <td>0.087294</td>\n",
       "      <td>0.088565</td>\n",
       "      <td>0.088379</td>\n",
       "      <td>0.090631</td>\n",
       "      <td>0.088311</td>\n",
       "      <td>0.088725</td>\n",
       "    </tr>\n",
       "    <tr>\n",
       "      <td>2</td>\n",
       "      <td>0.088199</td>\n",
       "      <td>0.089116</td>\n",
       "      <td>0.087202</td>\n",
       "      <td>0.088888</td>\n",
       "      <td>0.090014</td>\n",
       "      <td>0.088366</td>\n",
       "      <td>0.090128</td>\n",
       "      <td>0.088259</td>\n",
       "      <td>0.087831</td>\n",
       "      <td>0.088618</td>\n",
       "      <td>0.088662</td>\n",
       "    </tr>\n",
       "    <tr>\n",
       "      <td>3</td>\n",
       "      <td>0.091112</td>\n",
       "      <td>0.085961</td>\n",
       "      <td>0.088569</td>\n",
       "      <td>0.093887</td>\n",
       "      <td>0.089016</td>\n",
       "      <td>0.088688</td>\n",
       "      <td>0.091248</td>\n",
       "      <td>0.092998</td>\n",
       "      <td>0.090359</td>\n",
       "      <td>0.091321</td>\n",
       "      <td>0.090316</td>\n",
       "    </tr>\n",
       "    <tr>\n",
       "      <td>4</td>\n",
       "      <td>0.077340</td>\n",
       "      <td>0.077752</td>\n",
       "      <td>0.078353</td>\n",
       "      <td>0.076709</td>\n",
       "      <td>0.082250</td>\n",
       "      <td>0.076256</td>\n",
       "      <td>0.075679</td>\n",
       "      <td>0.077600</td>\n",
       "      <td>0.079279</td>\n",
       "      <td>0.077911</td>\n",
       "      <td>0.077913</td>\n",
       "    </tr>\n",
       "    <tr>\n",
       "      <td>5</td>\n",
       "      <td>0.076147</td>\n",
       "      <td>0.073444</td>\n",
       "      <td>0.075999</td>\n",
       "      <td>0.072819</td>\n",
       "      <td>0.074025</td>\n",
       "      <td>0.075546</td>\n",
       "      <td>0.075527</td>\n",
       "      <td>0.077983</td>\n",
       "      <td>0.072897</td>\n",
       "      <td>0.074532</td>\n",
       "      <td>0.074892</td>\n",
       "    </tr>\n",
       "    <tr>\n",
       "      <td>6</td>\n",
       "      <td>0.089466</td>\n",
       "      <td>0.087679</td>\n",
       "      <td>0.086119</td>\n",
       "      <td>0.087475</td>\n",
       "      <td>0.086272</td>\n",
       "      <td>0.084577</td>\n",
       "      <td>0.089624</td>\n",
       "      <td>0.090075</td>\n",
       "      <td>0.091423</td>\n",
       "      <td>0.091522</td>\n",
       "      <td>0.088423</td>\n",
       "    </tr>\n",
       "    <tr>\n",
       "      <td>7</td>\n",
       "      <td>0.089905</td>\n",
       "      <td>0.087784</td>\n",
       "      <td>0.087931</td>\n",
       "      <td>0.088124</td>\n",
       "      <td>0.088457</td>\n",
       "      <td>0.085665</td>\n",
       "      <td>0.090761</td>\n",
       "      <td>0.087250</td>\n",
       "      <td>0.091245</td>\n",
       "      <td>0.085629</td>\n",
       "      <td>0.088275</td>\n",
       "    </tr>\n",
       "    <tr>\n",
       "      <td>8</td>\n",
       "      <td>0.019430</td>\n",
       "      <td>0.015899</td>\n",
       "      <td>0.017687</td>\n",
       "      <td>0.012472</td>\n",
       "      <td>0.016302</td>\n",
       "      <td>0.019829</td>\n",
       "      <td>0.015474</td>\n",
       "      <td>0.015745</td>\n",
       "      <td>0.010250</td>\n",
       "      <td>0.016041</td>\n",
       "      <td>0.015913</td>\n",
       "    </tr>\n",
       "    <tr>\n",
       "      <td>9</td>\n",
       "      <td>0.088564</td>\n",
       "      <td>0.086541</td>\n",
       "      <td>0.085705</td>\n",
       "      <td>0.086149</td>\n",
       "      <td>0.086410</td>\n",
       "      <td>0.088295</td>\n",
       "      <td>0.086517</td>\n",
       "      <td>0.085908</td>\n",
       "      <td>0.089279</td>\n",
       "      <td>0.086867</td>\n",
       "      <td>0.087024</td>\n",
       "    </tr>\n",
       "    <tr>\n",
       "      <td>10</td>\n",
       "      <td>0.087124</td>\n",
       "      <td>0.094377</td>\n",
       "      <td>0.094514</td>\n",
       "      <td>0.090659</td>\n",
       "      <td>0.086963</td>\n",
       "      <td>0.090032</td>\n",
       "      <td>0.090302</td>\n",
       "      <td>0.089880</td>\n",
       "      <td>0.090673</td>\n",
       "      <td>0.087170</td>\n",
       "      <td>0.090170</td>\n",
       "    </tr>\n",
       "    <tr>\n",
       "      <td>11</td>\n",
       "      <td>0.014826</td>\n",
       "      <td>0.011863</td>\n",
       "      <td>0.013064</td>\n",
       "      <td>0.014654</td>\n",
       "      <td>0.014389</td>\n",
       "      <td>0.014836</td>\n",
       "      <td>0.012992</td>\n",
       "      <td>0.013476</td>\n",
       "      <td>0.013037</td>\n",
       "      <td>0.012667</td>\n",
       "      <td>0.013580</td>\n",
       "    </tr>\n",
       "    <tr>\n",
       "      <td>12</td>\n",
       "      <td>0.089908</td>\n",
       "      <td>0.089879</td>\n",
       "      <td>0.088659</td>\n",
       "      <td>0.088629</td>\n",
       "      <td>0.092516</td>\n",
       "      <td>0.089143</td>\n",
       "      <td>0.086404</td>\n",
       "      <td>0.091033</td>\n",
       "      <td>0.089884</td>\n",
       "      <td>0.091190</td>\n",
       "      <td>0.089724</td>\n",
       "    </tr>\n",
       "    <tr>\n",
       "      <td>13</td>\n",
       "      <td>0.008958</td>\n",
       "      <td>0.020218</td>\n",
       "      <td>0.016848</td>\n",
       "      <td>0.019978</td>\n",
       "      <td>0.016784</td>\n",
       "      <td>0.019983</td>\n",
       "      <td>0.017912</td>\n",
       "      <td>0.016267</td>\n",
       "      <td>0.013763</td>\n",
       "      <td>0.019403</td>\n",
       "      <td>0.017011</td>\n",
       "    </tr>\n",
       "  </tbody>\n",
       "</table>\n",
       "</div>"
      ],
      "text/plain": [
       "           1         2         3         4         5         6         7  \\\n",
       "0   0.089016  0.092238  0.091946  0.090694  0.086050  0.091490  0.088866   \n",
       "1   0.090005  0.087249  0.087405  0.088864  0.090552  0.087294  0.088565   \n",
       "2   0.088199  0.089116  0.087202  0.088888  0.090014  0.088366  0.090128   \n",
       "3   0.091112  0.085961  0.088569  0.093887  0.089016  0.088688  0.091248   \n",
       "4   0.077340  0.077752  0.078353  0.076709  0.082250  0.076256  0.075679   \n",
       "5   0.076147  0.073444  0.075999  0.072819  0.074025  0.075546  0.075527   \n",
       "6   0.089466  0.087679  0.086119  0.087475  0.086272  0.084577  0.089624   \n",
       "7   0.089905  0.087784  0.087931  0.088124  0.088457  0.085665  0.090761   \n",
       "8   0.019430  0.015899  0.017687  0.012472  0.016302  0.019829  0.015474   \n",
       "9   0.088564  0.086541  0.085705  0.086149  0.086410  0.088295  0.086517   \n",
       "10  0.087124  0.094377  0.094514  0.090659  0.086963  0.090032  0.090302   \n",
       "11  0.014826  0.011863  0.013064  0.014654  0.014389  0.014836  0.012992   \n",
       "12  0.089908  0.089879  0.088659  0.088629  0.092516  0.089143  0.086404   \n",
       "13  0.008958  0.020218  0.016848  0.019978  0.016784  0.019983  0.017912   \n",
       "\n",
       "           8         9        10      mean  \n",
       "0   0.085146  0.089448  0.088818  0.089371  \n",
       "1   0.088379  0.090631  0.088311  0.088725  \n",
       "2   0.088259  0.087831  0.088618  0.088662  \n",
       "3   0.092998  0.090359  0.091321  0.090316  \n",
       "4   0.077600  0.079279  0.077911  0.077913  \n",
       "5   0.077983  0.072897  0.074532  0.074892  \n",
       "6   0.090075  0.091423  0.091522  0.088423  \n",
       "7   0.087250  0.091245  0.085629  0.088275  \n",
       "8   0.015745  0.010250  0.016041  0.015913  \n",
       "9   0.085908  0.089279  0.086867  0.087024  \n",
       "10  0.089880  0.090673  0.087170  0.090170  \n",
       "11  0.013476  0.013037  0.012667  0.013580  \n",
       "12  0.091033  0.089884  0.091190  0.089724  \n",
       "13  0.016267  0.013763  0.019403  0.017011  "
      ]
     },
     "execution_count": 20,
     "metadata": {},
     "output_type": "execute_result"
    }
   ],
   "source": [
    "#getting mean of the feature selection process\n",
    "means = pd.DataFrame({'1': pd.Series(features_list[0]), '2': pd.Series(features_list[1]), '3': pd.Series(features_list[2]),\n",
    "             '4': pd.Series(features_list[3]), '5': pd.Series(features_list[4]), '6': pd.Series(features_list[5]), \n",
    "             '7': pd.Series(features_list[6]), '8': pd.Series(features_list[7]), '9': pd.Series(features_list[8]),\n",
    "             '10': pd.Series(features_list[9])})\n",
    "means['mean'] = means.mean(axis=1)\n",
    "means"
   ]
  },
  {
   "cell_type": "code",
   "execution_count": 21,
   "metadata": {},
   "outputs": [],
   "source": [
    "features = pd.concat([pd.Series(df.columns[1:]), means['mean']], axis=1)\n",
    "features.columns = ['Features', 'Importance']\n",
    "features = features.sort_values(by = 'Importance', ascending = False).reset_index().drop(['index'], axis = 1)"
   ]
  },
  {
   "cell_type": "code",
   "execution_count": 22,
   "metadata": {},
   "outputs": [
    {
     "data": {
      "text/html": [
       "<div>\n",
       "<style scoped>\n",
       "    .dataframe tbody tr th:only-of-type {\n",
       "        vertical-align: middle;\n",
       "    }\n",
       "\n",
       "    .dataframe tbody tr th {\n",
       "        vertical-align: top;\n",
       "    }\n",
       "\n",
       "    .dataframe thead th {\n",
       "        text-align: right;\n",
       "    }\n",
       "</style>\n",
       "<table border=\"1\" class=\"dataframe\">\n",
       "  <thead>\n",
       "    <tr style=\"text-align: right;\">\n",
       "      <th></th>\n",
       "      <th>Features</th>\n",
       "      <th>Importance</th>\n",
       "    </tr>\n",
       "  </thead>\n",
       "  <tbody>\n",
       "    <tr>\n",
       "      <td>0</td>\n",
       "      <td>energy</td>\n",
       "      <td>0.090316</td>\n",
       "    </tr>\n",
       "    <tr>\n",
       "      <td>1</td>\n",
       "      <td>tempo</td>\n",
       "      <td>0.090170</td>\n",
       "    </tr>\n",
       "    <tr>\n",
       "      <td>2</td>\n",
       "      <td>valence</td>\n",
       "      <td>0.089724</td>\n",
       "    </tr>\n",
       "    <tr>\n",
       "      <td>3</td>\n",
       "      <td>acousticness</td>\n",
       "      <td>0.089371</td>\n",
       "    </tr>\n",
       "    <tr>\n",
       "      <td>4</td>\n",
       "      <td>danceability</td>\n",
       "      <td>0.088725</td>\n",
       "    </tr>\n",
       "    <tr>\n",
       "      <td>5</td>\n",
       "      <td>duration_ms</td>\n",
       "      <td>0.088662</td>\n",
       "    </tr>\n",
       "    <tr>\n",
       "      <td>6</td>\n",
       "      <td>liveness</td>\n",
       "      <td>0.088423</td>\n",
       "    </tr>\n",
       "    <tr>\n",
       "      <td>7</td>\n",
       "      <td>loudness</td>\n",
       "      <td>0.088275</td>\n",
       "    </tr>\n",
       "    <tr>\n",
       "      <td>8</td>\n",
       "      <td>speechiness</td>\n",
       "      <td>0.087024</td>\n",
       "    </tr>\n",
       "    <tr>\n",
       "      <td>9</td>\n",
       "      <td>instrumentalness</td>\n",
       "      <td>0.077913</td>\n",
       "    </tr>\n",
       "    <tr>\n",
       "      <td>10</td>\n",
       "      <td>key</td>\n",
       "      <td>0.074892</td>\n",
       "    </tr>\n",
       "    <tr>\n",
       "      <td>11</td>\n",
       "      <td>target</td>\n",
       "      <td>0.017011</td>\n",
       "    </tr>\n",
       "    <tr>\n",
       "      <td>12</td>\n",
       "      <td>mode</td>\n",
       "      <td>0.015913</td>\n",
       "    </tr>\n",
       "    <tr>\n",
       "      <td>13</td>\n",
       "      <td>time_signature</td>\n",
       "      <td>0.013580</td>\n",
       "    </tr>\n",
       "  </tbody>\n",
       "</table>\n",
       "</div>"
      ],
      "text/plain": [
       "            Features  Importance\n",
       "0             energy    0.090316\n",
       "1              tempo    0.090170\n",
       "2            valence    0.089724\n",
       "3       acousticness    0.089371\n",
       "4       danceability    0.088725\n",
       "5        duration_ms    0.088662\n",
       "6           liveness    0.088423\n",
       "7           loudness    0.088275\n",
       "8        speechiness    0.087024\n",
       "9   instrumentalness    0.077913\n",
       "10               key    0.074892\n",
       "11            target    0.017011\n",
       "12              mode    0.015913\n",
       "13    time_signature    0.013580"
      ]
     },
     "execution_count": 22,
     "metadata": {},
     "output_type": "execute_result"
    }
   ],
   "source": [
    "features"
   ]
  },
  {
   "cell_type": "code",
   "execution_count": 23,
   "metadata": {},
   "outputs": [
    {
     "data": {
      "image/png": "[encoded data removed]",
      "text/plain": [
       "<Figure size 432x288 with 1 Axes>"
      ]
     },
     "metadata": {
      "needs_background": "light"
     },
     "output_type": "display_data"
    }
   ],
   "source": [
    "feat_importances = pd.Series(features.Importance.values, index=X.columns)\n",
    "feat_importances.nlargest(10).plot(kind='barh')\n",
    "plt.show()"
   ]
  },
  {
   "cell_type": "code",
   "execution_count": null,
   "metadata": {},
   "outputs": [],
   "source": []
  }
 ],
 "metadata": {
  "kernelspec": {
   "display_name": "Python 3",
   "language": "python",
   "name": "python3"
  },
  "language_info": {
   "codemirror_mode": {
    "name": "ipython",
    "version": 3
   },
   "file_extension": ".py",
   "mimetype": "text/x-python",
   "name": "python",
   "nbconvert_exporter": "python",
   "pygments_lexer": "ipython3",
   "version": "3.7.4"
  }
 },
 "nbformat": 4,
 "nbformat_minor": 2
}
